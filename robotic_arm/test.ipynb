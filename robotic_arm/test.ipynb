{
 "cells": [
  {
   "cell_type": "code",
   "execution_count": 67,
   "metadata": {},
   "outputs": [],
   "source": [
    "import spatialmath as sm\n",
    "import spatialgeometry as sg\n",
    "import roboticstoolbox as rtb\n",
    "from pydrake.solvers import MathematicalProgram, Solve\n",
    "import swift\n",
    "import time\n",
    "import numpy as np\n",
    "\n",
    "\n",
    "def jacobian_i_k_optimisation(robot, v, v_max=1.2):\n",
    "    # jacobian inverse kinematics with optimisation\n",
    "    J = robot.jacobe(robot.q)\n",
    "    prog = MathematicalProgram()\n",
    "    v_opt = prog.NewContinuousVariables(6, \"v_opt\")\n",
    "    # Define the error term for the cost function\n",
    "    error = J @ v_opt - v\n",
    "    prog.AddCost(error.dot(error))\n",
    "    # Add bounding box constraint for joint velocities\n",
    "    lower_bounds = [-v_max] * 6  # Lower bounds for each joint velocity\n",
    "    upper_bounds = [v_max] * 6   # Upper bounds for each joint velocity\n",
    "    prog.AddBoundingBoxConstraint(lower_bounds, upper_bounds, v_opt)\n",
    "    # Solve the optimization problem\n",
    "    result = Solve(prog)\n",
    "    return result.is_success(), result.GetSolution(v_opt)\n",
    "\n",
    "def end_effector_base_position_from_tip(T_tip ,offset):\n",
    "    \"\"\"\n",
    "    Calculate the end effector base position given the tip position and an arbitrary offset.\n",
    "    \n",
    "    :param tip_position: A tuple of (x, y, z) coordinates for the end effector tip.\n",
    "    :param tip_orientation: A tuple of (roll, pitch, yaw) angles in degrees for the end effector tip orientation.\n",
    "    :param offset: A tuple of (x_e, y_e, z_e, roll_e, pitch_e, yaw_e) representing the offset of the base from the tip.\n",
    "    :return: The position of the end effector base as a tuple (x, y, z).\n",
    "    \"\"\"\n",
    "    x_e, y_e, z_e, roll_e, pitch_e, yaw_e = offset\n",
    "    T_offset = sm.SE3.RPY([roll_e, pitch_e, yaw_e], unit='deg') * sm.SE3(x_e, y_e, z_e)\n",
    "    \n",
    "    # Calculate the transformation matrix for the base\n",
    "    T_base = T_tip * T_offset.inv()\n",
    "    return T_base\n"
   ]
  },
  {
   "cell_type": "code",
   "execution_count": 68,
   "metadata": {},
   "outputs": [
    {
     "name": "stdout",
     "output_type": "stream",
     "text": [
      "Opening in existing browser session.\n"
     ]
    }
   ],
   "source": [
    "class Lite6:\n",
    "    def __init__(self, simulation, robot_ip = None, tcp_offset = None) -> None:\n",
    "        self.virtual_robot = rtb.models.URDF.Lite6()\n",
    "        self.simulation = simulation\n",
    "        if self.simulation:\n",
    "            self.simulation.add(self.virtual_robot, robot_alpha=True, collision_alpha=False)\n",
    "        self.tcp_offset = tcp_offset\n",
    "        self.real_robot = None\n",
    "        if robot_ip:\n",
    "            from xarm.wrapper import XArmAPI\n",
    "            from robot import RobotMain\n",
    "            self.real_robot = RobotMain(XArmAPI(robot_ip, baud_checkset=False))\n",
    "\n",
    "    def move_to(self, dest, dt=0.05, gain=1, treshold=0.01):\n",
    "        if self.tcp_offset:\n",
    "            dest = end_effector_base_position_from_tip(dest, self.tcp_offset)\n",
    "        if self.simulation:\n",
    "            axes = sg.Axes(length=0.1, pose=dest)\n",
    "            self.simulation.add(axes)\n",
    "        if self.real_robot:\n",
    "            self.real_robot.set_mode(4)\n",
    "            self.real_robot.set_state(0)\n",
    "        arrived = False\n",
    "        while not arrived:\n",
    "            v, arrived = rtb.p_servo(self.virtual_robot.fkine(self.virtual_robot.q), dest, gain=gain, threshold=treshold)\n",
    "            qd = jacobian_i_k_optimisation(self.virtual_robot, v, v_max=1)[1]\n",
    "            self.virtual_robot.qd = qd\n",
    "            if self.real_robot:\n",
    "                self._arm.vc_set_joint_velocity(qd, is_radian=True)\n",
    "            if self.simulation:\n",
    "                self.simulation.step(dt)\n",
    "        if self.real_robot:\n",
    "            self._arm.vc_set_joint_velocity([0, 0, 0, 0, 0, 0], is_radian=True)\n",
    "        return arrived\n",
    "    \n",
    "    def get_pose(self):\n",
    "        return self.virtual_robot.fkine(self.virtual_robot.q)\n",
    "    \n",
    "    def reset(self):\n",
    "        self.virtual_robot.q = self.virtual_robot.qz\n",
    "        self.simulation.step(0.1)\n",
    "\n",
    "tcp_offset = [0, 0, 0.2, 0, 0, 0]\n",
    "sim = swift.Swift()\n",
    "sim.launch(realtime=True)\n",
    "lite6 = Lite6(simulation=sim, tcp_offset=tcp_offset)\n"
   ]
  },
  {
   "cell_type": "code",
   "execution_count": 69,
   "metadata": {},
   "outputs": [
    {
     "data": {
      "text/plain": [
       "True"
      ]
     },
     "execution_count": 69,
     "metadata": {},
     "output_type": "execute_result"
    },
    {
     "name": "stderr",
     "output_type": "stream",
     "text": [
      "Deserialization failed!\n"
     ]
    }
   ],
   "source": [
    "lite6.reset()\n",
    "x, y, z, roll, pitch, yaw = 0.2, 0.2, 0, -180, -180, 0\n",
    "roll_rad, pitch_rad, yaw_rad = np.deg2rad([roll, pitch, yaw])\n",
    "R = sm.SE3.RPY([roll_rad, pitch_rad, yaw_rad], order='xyz')\n",
    "T = sm.SE3(x, y, z)\n",
    "dest = T*R\n",
    "lite6.move_to(dest)"
   ]
  },
  {
   "cell_type": "code",
   "execution_count": 33,
   "metadata": {},
   "outputs": [
    {
     "name": "stdout",
     "output_type": "stream",
     "text": [
      "1 2 3\n"
     ]
    }
   ],
   "source": [
    "a = [1,2,3]\n",
    "c, d, e = a\n",
    "print(c, d, e)"
   ]
  },
  {
   "cell_type": "code",
   "execution_count": null,
   "metadata": {},
   "outputs": [],
   "source": []
  }
 ],
 "metadata": {
  "kernelspec": {
   "display_name": "demo-fari-robotic-arm",
   "language": "python",
   "name": "python3"
  },
  "language_info": {
   "codemirror_mode": {
    "name": "ipython",
    "version": 3
   },
   "file_extension": ".py",
   "mimetype": "text/x-python",
   "name": "python",
   "nbconvert_exporter": "python",
   "pygments_lexer": "ipython3",
   "version": "3.10.13"
  }
 },
 "nbformat": 4,
 "nbformat_minor": 2
}
