{
 "cells": [
  {
   "cell_type": "code",
   "execution_count": 1,
   "metadata": {},
   "outputs": [
    {
     "name": "stdout",
     "output_type": "stream",
     "text": [
      "SDK_VERSION: 1.13.14\n",
      "ROBOT_IP: 192.168.1.159, VERSION: v1.12.2, PROTOCOL: V1, DETAIL: 6,9,LI1006,DL1000,v1.12.2, TYPE1300: [0, 0]\n",
      "change protocol identifier to 3\n",
      "[set_state], xArm is ready to move\n"
     ]
    }
   ],
   "source": [
    "#!/usr/bin/env python3\n",
    "# Software License Agreement (BSD License)\n",
    "#\n",
    "# Copyright (c) 2121, UFACTORY, Inc.\n",
    "# All rights reserved.\n",
    "#\n",
    "# Author: Vinman <vinman.wen@ufactory.cc> <vinman.cub@gmail.com>\n",
    "\n",
    "\"\"\"\n",
    "Description: joint velocity control\n",
    "\"\"\"\n",
    "\n",
    "import os\n",
    "import sys\n",
    "import time\n",
    "\n",
    "\n",
    "from xarm.wrapper import XArmAPI\n",
    "\n",
    "\n",
    "\n",
    "arm = XArmAPI(\"192.168.1.159\")\n",
    "arm.motion_enable(enable=True)\n",
    "arm.set_mode(0)\n",
    "arm.set_state(state=0)\n",
    "time.sleep(1)\n",
    "\n",
    "arm.reset(wait=True)\n",
    "\n",
    "# set joint velocity control mode\n",
    "arm.set_mode(4)\n",
    "arm.set_state(0)\n",
    "time.sleep(1)\n",
    "\n",
    "count = 6\n",
    "while count > 0:\n",
    "    count -= 1\n",
    "    arm.vc_set_joint_velocity([-50, 0, 0, 0, 0, 0])\n",
    "    time.sleep(2)\n",
    "    arm.vc_set_joint_velocity([50, 0, 0, 0, 0, 0])\n",
    "    time.sleep(2)\n",
    "\n",
    "# stop\n",
    "arm.vc_set_joint_velocity([0, 0, 0, 0, 0, 0])\n",
    "\n",
    "arm.disconnect()"
   ]
  },
  {
   "cell_type": "code",
   "execution_count": null,
   "metadata": {},
   "outputs": [],
   "source": []
  }
 ],
 "metadata": {
  "kernelspec": {
   "display_name": "demo-fari-robotic-arm",
   "language": "python",
   "name": "python3"
  },
  "language_info": {
   "codemirror_mode": {
    "name": "ipython",
    "version": 3
   },
   "file_extension": ".py",
   "mimetype": "text/x-python",
   "name": "python",
   "nbconvert_exporter": "python",
   "pygments_lexer": "ipython3",
   "version": "3.11.5"
  }
 },
 "nbformat": 4,
 "nbformat_minor": 2
}
